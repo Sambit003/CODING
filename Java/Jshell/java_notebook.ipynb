{
 "cells": [
  {
   "cell_type": "code",
   "execution_count": null,
   "metadata": {},
   "outputs": [],
   "source": [
    "import org.apache.commons.math3.stat.descriptive.DescriptiveStatistics;\n",
    "import org.apache.commons.math3.stat.descriptive.moment.Mean;\n",
    "import org.apache.commons.math3.stat.descriptive.moment.StandardDeviation;\n",
    "\n",
    "DescriptiveStatistics stats = new DescriptiveStatistics();\n",
    "stats.addValue(5.1);\n",
    "stats.addValue(4.9);\n",
    "stats.addValue(4.7);\n",
    "stats.addValue(4.6);\n",
    "stats.addValue(5.0);\n",
    "stats.addValue(5.4);\n",
    "stats.addValue(5.2);\n",
    "stats.addValue(5.0);\n",
    "stats.addValue(5.5);\n",
    "stats.addValue(4.9);\n",
    "\n",
    "System.out.println(\"Mean: \" + stats.getMean());\n",
    "System.out.println(\"Standard deviation: \" + stats.getStandardDeviation());"
   ]
  }
 ],
 "metadata": {
  "language_info": {
   "name": "python"
  },
  "orig_nbformat": 4
 },
 "nbformat": 4,
 "nbformat_minor": 2
}
